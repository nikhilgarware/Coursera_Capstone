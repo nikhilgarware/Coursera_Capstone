{
    "cells": [
        {
            "cell_type": "markdown",
            "metadata": {
                "collapsed": true
            },
            "source": "# The Battle of Neighborhoods |  Affordable homes in Metropolitan Cities, India"
        },
        {
            "cell_type": "markdown",
            "metadata": {},
            "source": "##  Introduction "
        },
        {
            "cell_type": "markdown",
            "metadata": {},
            "source": "In this assiginment we are going perform a research on the affordable home rates in metropolitian cities of India  such as Mumbai and Pune. As the cities are having a huge infrastructural growth and many of the multinational companies are investing in cities like this, there is a need for the employee to buy a affordable home in such cities.\nWhile buying the home the individual will surely take a survey on the nearby facalities and resourses available for day to day needs. \nFor example a individual may search for school, coffee shops, resturants and many other amenities. Considering all these factors in mind we have to suggest the user the most affordable home with all the amenities nearby. '"
        },
        {
            "cell_type": "markdown",
            "metadata": {},
            "source": "## Problem which I tried to Solve:"
        },
        {
            "cell_type": "markdown",
            "metadata": {},
            "source": " 1. Show the affordalbe home in nearby area\n 2. Sorted list of school with respect to fees and facalities "
        },
        {
            "cell_type": "markdown",
            "metadata": {},
            "source": "## Locality :"
        },
        {
            "cell_type": "markdown",
            "metadata": {},
            "source": "I have selected the localities such as Mumbai and Pune for the research as these are rapadliy growing cities and many of the MNC(Multi national Companies ) are investing in these cities.  As the job opportinities grows the population will also automatically increase. This will result in a huge demand of houses with a affordalble rate.\nBut in such metropolitian cities a house with all nearby facilities would cause a huge amount. To reduce the effort and make neighbour more good for living, we are trying to predict the affordable prices to homes in a good locality of the city.   "
        },
        {
            "cell_type": "markdown",
            "metadata": {},
            "source": "## Foursquare API:"
        },
        {
            "cell_type": "markdown",
            "metadata": {},
            "source": " The foursquare API would provide us the details of the locality and the facalities which are provided by the nearby area. The four square API provides a huge database in which we can find out data which we require. The four square API is user friendly.  "
        },
        {
            "cell_type": "markdown",
            "metadata": {},
            "source": "## Workflow:"
        },
        {
            "cell_type": "markdown",
            "metadata": {},
            "source": "The credential of the Foursquare API will be used for the collection of the data through the database and the data will be mined. As we are using the developer (free) version there is limitation of the call me make through the API. For using the Foursquare API we are going to use the credentails provided to use by the foursquare community. "
        },
        {
            "cell_type": "markdown",
            "metadata": {},
            "source": "## Libraries which will be used are as follows:"
        },
        {
            "cell_type": "markdown",
            "metadata": {},
            "source": "Pandas"
        },
        {
            "cell_type": "markdown",
            "metadata": {},
            "source": "Scikit-learn "
        },
        {
            "cell_type": "markdown",
            "metadata": {},
            "source": "MatplotLib"
        },
        {
            "cell_type": "code",
            "execution_count": null,
            "metadata": {},
            "outputs": [],
            "source": ""
        }
    ],
    "metadata": {
        "kernelspec": {
            "display_name": "Python 3.6",
            "language": "python",
            "name": "python3"
        },
        "language_info": {
            "codemirror_mode": {
                "name": "ipython",
                "version": 3
            },
            "file_extension": ".py",
            "mimetype": "text/x-python",
            "name": "python",
            "nbconvert_exporter": "python",
            "pygments_lexer": "ipython3",
            "version": "3.6.9"
        }
    },
    "nbformat": 4,
    "nbformat_minor": 1
}