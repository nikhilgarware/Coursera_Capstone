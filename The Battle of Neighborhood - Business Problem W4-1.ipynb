{
    "cells": [
        {
            "cell_type": "markdown",
            "metadata": {
                "collapsed": true
            },
            "source": "# The Battle of Neighborhood - Problem Description (Business problem)"
        },
        {
            "cell_type": "markdown",
            "metadata": {},
            "source": "## Introduction"
        },
        {
            "cell_type": "markdown",
            "metadata": {},
            "source": "In this assignment we are going to study the dataset of new york city. We will convert the address in the form of lattitude and longitude. After converting the location in the longitude and lattitude form we will explore the neighborhood using the Foursquare API. The explore function would be used to explore the data and get the most common venue and sort the venues in the neighborhood according to the categories and their features. we will also use the K-Means algorithm to find the location nearby with catregorical data and according to the features provides by the user review available form the Foursquare API. "
        },
        {
            "cell_type": "markdown",
            "metadata": {},
            "source": "## Problems which we tried to solve:"
        },
        {
            "cell_type": "markdown",
            "metadata": {},
            "source": "1. Clustering the places according to their Features.\n2. Plotting them on the map using the Matplotlib library \n3. Making the Map availabe so that we can plot them easily.\n4. Forming clusters and highlighting them.\n5. Exploring location by making use of the explore function."
        },
        {
            "cell_type": "markdown",
            "metadata": {},
            "source": "## Locality:"
        },
        {
            "cell_type": "markdown",
            "metadata": {},
            "source": "As the New-York city is world wide famous. So I decided to do data analysis on the same city. Many of the visitor visit the New-York city throughout the Year, so providing them the data useful is one of the most important factor. Making research and providing them the appropriate data depends totally on the data analysis. As the dataset of new-york city was available, i decided to Visualize the data of the same city.  "
        },
        {
            "cell_type": "markdown",
            "metadata": {},
            "source": "## Foursquare API"
        },
        {
            "cell_type": "markdown",
            "metadata": {},
            "source": "The foursquare API is a very well desigined platform which  is very useful for developers and data analysist. This API can provide a locality by tracking them by their longitude and lalitude. By making use of this API we can easily plot the data clusters which may be used for data analysis and data visualization purpose. The API alos provides a review of the customes through which we can select the location with good reviews and better quality of offerings , "
        },
        {
            "cell_type": "markdown",
            "metadata": {},
            "source": "## Workflow:"
        },
        {
            "cell_type": "markdown",
            "metadata": {},
            "source": "We will be using the credentialas provided by the Foursquare API for the location tracking and marking the location on the map. After doing the procedure we would visualize the data my using the Python libraries like Matplotlib,Folium,etc.   "
        },
        {
            "cell_type": "markdown",
            "metadata": {},
            "source": "## Libraries Used For the project."
        },
        {
            "cell_type": "markdown",
            "metadata": {},
            "source": "1. Pandas\n2. Matplotlib\n3. Scikit learn\n4. Folium\n5. Dependencies for K-Means Algorithm. "
        },
        {
            "cell_type": "code",
            "execution_count": null,
            "metadata": {},
            "outputs": [],
            "source": ""
        }
    ],
    "metadata": {
        "kernelspec": {
            "display_name": "Python 3.6",
            "language": "python",
            "name": "python3"
        },
        "language_info": {
            "codemirror_mode": {
                "name": "ipython",
                "version": 3
            },
            "file_extension": ".py",
            "mimetype": "text/x-python",
            "name": "python",
            "nbconvert_exporter": "python",
            "pygments_lexer": "ipython3",
            "version": "3.6.9"
        }
    },
    "nbformat": 4,
    "nbformat_minor": 1
}