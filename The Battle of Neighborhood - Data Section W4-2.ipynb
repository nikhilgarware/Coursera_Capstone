{
    "cells": [
        {
            "cell_type": "markdown",
            "metadata": {
                "collapsed": true
            },
            "source": "# The Battle of Neighborhood - Data Section  (Solving the Problem)"
        },
        {
            "cell_type": "markdown",
            "metadata": {},
            "source": "## The following link of data will be used"
        },
        {
            "cell_type": "markdown",
            "metadata": {},
            "source": "#### Wikipedia - https://geo.nyu.edu/catalog/nyu_2451_34572\n#### We will use this dataset for the research of the data and find the localities and better livinghood inthe region of the New York. "
        },
        {
            "cell_type": "markdown",
            "metadata": {},
            "source": "## Problem Description:"
        },
        {
            "cell_type": "markdown",
            "metadata": {},
            "source": "#### As new York is very large city, people who visit NY may find it difficult to look out for places with good reviews and good quality of service. To solve the problem we would perform the data analysis operation which would help the new visitors to find good places in the neighborhood easily and quickly. This may result in increasing the popularity and infrastructure of the city.      "
        },
        {
            "cell_type": "markdown",
            "metadata": {},
            "source": "### The Foursquare API:"
        },
        {
            "cell_type": "markdown",
            "metadata": {},
            "source": "The Foursquare API is used to find the location on the map and plot the graph so that we can easily get the location and plot it. The Foursquare API provides a great platform for providing a API (Application Programming Interface ) for the developers and data scientist. We can easily plot the map of the desired location by using the FourSquare API."
        },
        {
            "cell_type": "markdown",
            "metadata": {},
            "source": "### The data retrieved from Foursquare contained information of venues within a specified distance of the longitude and latitude of the postcodes. The information obtained per venue as follows:"
        },
        {
            "cell_type": "markdown",
            "metadata": {},
            "source": "1. Neighborhood\n2. Neighborhood Latitude\n3. Neighborhood Longitude\n4. Venue\n5. Name of the venue e.g. the name of a store or restaurant\n6. Venue Latitude\n7. Venue Longitude\n8. Venue Category\n9. Nearby restaurants\n10. Locality nearby"
        },
        {
            "cell_type": "markdown",
            "metadata": {},
            "source": "#### Thus in this way we are going to solve the problem."
        },
        {
            "cell_type": "code",
            "execution_count": null,
            "metadata": {},
            "outputs": [],
            "source": ""
        }
    ],
    "metadata": {
        "kernelspec": {
            "display_name": "Python 3.6",
            "language": "python",
            "name": "python3"
        },
        "language_info": {
            "codemirror_mode": {
                "name": "ipython",
                "version": 3
            },
            "file_extension": ".py",
            "mimetype": "text/x-python",
            "name": "python",
            "nbconvert_exporter": "python",
            "pygments_lexer": "ipython3",
            "version": "3.6.9"
        }
    },
    "nbformat": 4,
    "nbformat_minor": 1
}